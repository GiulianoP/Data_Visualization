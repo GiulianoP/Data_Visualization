{
 "cells": [
  {
   "cell_type": "markdown",
   "id": "5ac8be5a",
   "metadata": {},
   "source": [
    "# Enviar Mensajes por Whatsapp Automáticamente"
   ]
  },
  {
   "cell_type": "code",
   "execution_count": 22,
   "id": "da584e0d",
   "metadata": {},
   "outputs": [],
   "source": [
    "%config IPCompleter.greedy=True\n",
    "\n",
    "import pywhatkit\n",
    "import pyautogui\n",
    "import time\n",
    "import keyboard as k"
   ]
  },
  {
   "cell_type": "code",
   "execution_count": 14,
   "id": "479b6d2d",
   "metadata": {},
   "outputs": [
    {
     "name": "stdout",
     "output_type": "stream",
     "text": [
      "In 48 Seconds WhatsApp will open and after 60 Seconds Message will be Delivered!\n"
     ]
    }
   ],
   "source": [
    "# Send a WhatsApp Message to a Contact at 21:53 PM\n",
    "#pywhatkit.sendwhatmsg(\"+Number\", \"Wapp auto Test\", 21, 53)\n",
    "\n",
    "# Same as above but Closes the Tab in 2 Seconds after Sending the Message\n",
    "pywhatkit.sendwhatmsg(\"+Number\", \"Message\", 22, 40, 60)\n",
    "\n",
    "\n",
    "# Send an Image to a Group with the Caption as Hello\n",
    "#pywhatkit.sendwhats_image(\"AB123CDEFGHijklmn\", \"Images/Hello.png\", \"Hello\")\n",
    "\n",
    "# Send an Image to a Contact with the no Caption\n",
    "#pywhatkit.sendwhats_image(\"+910123456789\", \"Images/Hello.png\")\n",
    "\n",
    "# Send a WhatsApp Message to a Group at 12:00 AM\n",
    "#pywhatkit.sendwhatmsg_to_group(\"Giuliano Paolini\", \"Hey! This is an automated message!\", 22, 30, 120)\n",
    "\n",
    "# Send a WhatsApp Message to a Group instantly\n",
    "#pywhatkit.sendwhatmsg_to_group_instantly(\"Zoom\", \"Hey! This is an automated message!\")\n",
    "\n",
    "# Play a Video on YouTube\n",
    "#pywhatkit.playonyt(\"https://www.youtube.com/watch?v=Bk3rY_ICgPo\")\n"
   ]
  },
  {
   "cell_type": "code",
   "execution_count": 30,
   "id": "c59d4eae",
   "metadata": {},
   "outputs": [
    {
     "name": "stdout",
     "output_type": "stream",
     "text": [
      "Successfully Sent!\n"
     ]
    }
   ],
   "source": [
    "try: \n",
    "  # sending message to receiver\n",
    "  # using pywhatkit\n",
    "  #pywhatkit.sendwhatmsg(\"+Number\", \"Message\", 19, 13)\n",
    "  \n",
    "  pywhatkit.sendwhatmsg_to_group_instantly(\"Group_code\", \"Hey! This is an automated message from Python!\",wait_time= 60)\n",
    "  #pywhatkit.sendwhatmsg_instantly(\"+Number\", \"Message, I send you an automated kiss\",wait_time= 30)\n",
    "  pyautogui.click(946, 709)\n",
    "  time.sleep(2)\n",
    "  k.press_and_release('enter')\n",
    "  print(\"Successfully Sent!\")\n",
    " \n",
    "except:\n",
    "  # handling exception\n",
    "  # and printing error message\n",
    "  print(\"An Unexpected Error!\")"
   ]
  },
  {
   "cell_type": "code",
   "execution_count": 25,
   "id": "d73049eb",
   "metadata": {},
   "outputs": [
    {
     "data": {
      "text/plain": [
       "(946, 709)"
      ]
     },
     "execution_count": 25,
     "metadata": {},
     "output_type": "execute_result"
    }
   ],
   "source": [
    "currentMouseX, currentMouseY = pyautogui.position() # Get the XY position of the mouse.\n",
    "currentMouseX, currentMouseY"
   ]
  }
 ],
 "metadata": {
  "kernelspec": {
   "display_name": "Python 3",
   "language": "python",
   "name": "python3"
  },
  "language_info": {
   "codemirror_mode": {
    "name": "ipython",
    "version": 3
   },
   "file_extension": ".py",
   "mimetype": "text/x-python",
   "name": "python",
   "nbconvert_exporter": "python",
   "pygments_lexer": "ipython3",
   "version": "3.8.10"
  }
 },
 "nbformat": 4,
 "nbformat_minor": 5
}

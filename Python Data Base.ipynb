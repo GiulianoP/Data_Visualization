{
 "cells": [
  {
   "cell_type": "markdown",
   "id": "55178ade",
   "metadata": {},
   "source": [
    "# Generar una Base de Datos desde Python"
   ]
  },
  {
   "cell_type": "code",
   "execution_count": 6,
   "id": "163ebb18",
   "metadata": {},
   "outputs": [],
   "source": [
    "import sqlite3\n",
    "\n",
    "#Se crea una conexión y por lo tanto la Base de Datos como tal\n",
    "conexion= sqlite3.connect(\"DataBase\")\n",
    "\n",
    "cursor= conexion.cursor()\n",
    "\n",
    "cursor.execute(\"CREATE TABLE PRODUCTOS (NOMBRE_ARTICULO VARCHAR(50), PRECIO INTEGER, SECCION VARCHAR(20))\")\n"
   ]
  },
  {
   "cell_type": "code",
   "execution_count": 7,
   "id": "2a0a92bf",
   "metadata": {},
   "outputs": [],
   "source": [
    "#Incertar un registro\n",
    "cursor.execute(\"INSERT INTO PRODUCTOS VALUES('BALÓN', 15, 'DEPORTES')\")\n",
    "\n",
    "conexion.commit()"
   ]
  },
  {
   "cell_type": "code",
   "execution_count": 8,
   "id": "9da45faa",
   "metadata": {},
   "outputs": [],
   "source": [
    "conexion.close()"
   ]
  }
 ],
 "metadata": {
  "kernelspec": {
   "display_name": "Python 3",
   "language": "python",
   "name": "python3"
  },
  "language_info": {
   "codemirror_mode": {
    "name": "ipython",
    "version": 3
   },
   "file_extension": ".py",
   "mimetype": "text/x-python",
   "name": "python",
   "nbconvert_exporter": "python",
   "pygments_lexer": "ipython3",
   "version": "3.8.10"
  }
 },
 "nbformat": 4,
 "nbformat_minor": 5
}

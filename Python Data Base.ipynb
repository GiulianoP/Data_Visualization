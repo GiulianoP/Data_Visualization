{
 "cells": [
  {
   "cell_type": "markdown",
   "id": "3329c078",
   "metadata": {},
   "source": [
    "# Generar una Base de Datos desde Python"
   ]
  },
  {
   "cell_type": "code",
   "execution_count": 40,
   "id": "2b253ad7",
   "metadata": {},
   "outputs": [
    {
     "data": {
      "text/plain": [
       "<sqlite3.Cursor at 0x1e06b708110>"
      ]
     },
     "execution_count": 40,
     "metadata": {},
     "output_type": "execute_result"
    }
   ],
   "source": [
    "import sqlite3\n",
    "\n",
    "#Se crea una conexión y por lo tanto la Base de Datos como tal\n",
    "conexion= sqlite3.connect(\"MyDataBase\")\n",
    "\n",
    "cursor= conexion.cursor()\n",
    "\n",
    "#cursor.execute(\"CREATE TABLE PRODUCTOS (NOMBRE_ARTICULO VARCHAR(50), PRECIO INTEGER, SECCION VARCHAR(20))\")\n",
    "\n",
    "cursor.execute('''\n",
    "    CREATE TABLE PRODUCTOS2 (\n",
    "    CODIGO_ARTICULO VARCHAR(4) PRIMARY KEY,\n",
    "    NOMBRE_ARTICULO VARCHAR(50),\n",
    "    PRECIO INTEGER, \n",
    "    SECCION VARCHAR(20))\n",
    "''')"
   ]
  },
  {
   "cell_type": "markdown",
   "id": "0f861279",
   "metadata": {},
   "source": [
    "### Incertar un registro"
   ]
  },
  {
   "cell_type": "code",
   "execution_count": 42,
   "id": "816252aa",
   "metadata": {},
   "outputs": [
    {
     "data": {
      "text/plain": [
       "<sqlite3.Cursor at 0x1e06b708110>"
      ]
     },
     "execution_count": 42,
     "metadata": {},
     "output_type": "execute_result"
    }
   ],
   "source": [
    "cursor.execute(\"INSERT INTO PRODUCTOS2 VALUES('AR01','BALÓN', 15, 'DEPORTES')\")"
   ]
  },
  {
   "cell_type": "markdown",
   "id": "aea5d05e",
   "metadata": {},
   "source": [
    "### Incertar varios registros"
   ]
  },
  {
   "cell_type": "code",
   "execution_count": 44,
   "id": "cfae9299",
   "metadata": {},
   "outputs": [
    {
     "data": {
      "text/plain": [
       "<sqlite3.Cursor at 0x1e06b708110>"
      ]
     },
     "execution_count": 44,
     "metadata": {},
     "output_type": "execute_result"
    }
   ],
   "source": [
    "variosProductos= [\n",
    "    (\"AR02\", \"Camiseta\", 10, \"Deportes\"),\n",
    "    (\"AR03\", \"Jarrón\", 90, \"Cerámica\"),\n",
    "    (\"AR04\", \"Camión\", 10, \"Jugetería\")\n",
    "    \n",
    "]\n",
    "\n",
    "cursor.executemany(\"INSERT INTO PRODUCTOS2 VALUES (?,?,?,?)\", variosProductos)"
   ]
  },
  {
   "cell_type": "code",
   "execution_count": 46,
   "id": "341f9969",
   "metadata": {},
   "outputs": [
    {
     "data": {
      "text/plain": [
       "[('BALÓN', 15, 'DEPORTES'), ('BALÓN', 15, 'DEPORTES')]"
      ]
     },
     "execution_count": 46,
     "metadata": {},
     "output_type": "execute_result"
    }
   ],
   "source": [
    "cursor.execute(\"SELECT * FROM PRODUCTOS\")\n",
    "\n",
    "lista= cursor.fetchall()\n",
    "lista"
   ]
  },
  {
   "cell_type": "code",
   "execution_count": 49,
   "id": "d0c51d8f",
   "metadata": {},
   "outputs": [
    {
     "data": {
      "text/plain": [
       "<sqlite3.Cursor at 0x1e06b708110>"
      ]
     },
     "execution_count": 49,
     "metadata": {},
     "output_type": "execute_result"
    }
   ],
   "source": [
    "cursor.execute('ALTER TABLE PRODUCTOS ADD CODIGO VARCHAR(4)')\n"
   ]
  },
  {
   "cell_type": "code",
   "execution_count": 50,
   "id": "b2c32c91",
   "metadata": {},
   "outputs": [
    {
     "data": {
      "text/plain": [
       "[('BALÓN', 15, 'DEPORTES', None, None), ('BALÓN', 15, 'DEPORTES', None, None)]"
      ]
     },
     "execution_count": 50,
     "metadata": {},
     "output_type": "execute_result"
    }
   ],
   "source": [
    "cursor.execute(\"SELECT * FROM PRODUCTOS\")\n",
    "\n",
    "lista= cursor.fetchall()\n",
    "lista"
   ]
  },
  {
   "cell_type": "code",
   "execution_count": 37,
   "id": "dc468abb",
   "metadata": {},
   "outputs": [],
   "source": [
    "conexion.commit()"
   ]
  },
  {
   "cell_type": "code",
   "execution_count": 38,
   "id": "b580f5d8",
   "metadata": {},
   "outputs": [],
   "source": [
    "conexion.close()"
   ]
  }
 ],
 "metadata": {
  "kernelspec": {
   "display_name": "Python 3",
   "language": "python",
   "name": "python3"
  },
  "language_info": {
   "codemirror_mode": {
    "name": "ipython",
    "version": 3
   },
   "file_extension": ".py",
   "mimetype": "text/x-python",
   "name": "python",
   "nbconvert_exporter": "python",
   "pygments_lexer": "ipython3",
   "version": "3.8.10"
  }
 },
 "nbformat": 4,
 "nbformat_minor": 5
}

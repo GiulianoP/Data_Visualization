{
 "cells": [
  {
   "cell_type": "markdown",
   "id": "4e779730",
   "metadata": {},
   "source": [
    "# Web Scraping: BeautifulSoup"
   ]
  },
  {
   "cell_type": "code",
   "execution_count": 4,
   "id": "c77047d6",
   "metadata": {},
   "outputs": [],
   "source": [
    "from bs4 import BeautifulSoup"
   ]
  },
  {
   "cell_type": "code",
   "execution_count": 25,
   "id": "7e0bacee",
   "metadata": {},
   "outputs": [
    {
     "name": "stdout",
     "output_type": "stream",
     "text": [
      "\n",
      "OverallHomeAway\n",
      " \n",
      "Team Tournament GoalsShots pgDisciplinePossession%Pass%AerialsWonRating1. Manchester City Premier League 36177065.889.612.87.022. Bayern Munich Bundesliga 3220.617165.986.711.57.013. Paris Saint-Germain Ligue 1 3216.326160.290.56.57.014. Barcelona LaLiga 2417.720165.389.4116.945. Real Madrid LaLiga 2517.312057.990.37.46.896. Napoli Serie A 2520.212058.286.514.46.867. Arsenal Premier League 2415.818056.685.011.36.858. Lazio Serie A 2110.820150.083.49.16.819. Newcastle Premier League 1815.317051.179.1146.8010. Lorient Ligue 1 2111.714142.480.712.46.8011. AC Milan Serie A 2417.124151.781.413.26.7712. Union Berlin Bundesliga 1812.214040.672.719.86.7713. Tottenham Premier League 2213.919148.384.611.56.7614. Monaco Ligue 1 201220445.081.211.76.7615. Borussia Dortmund Bundesliga 1814.426057.482.812.56.7416. Lyon Ligue 1 2114.917259.885.811.36.7417. Marseille Ligue 1 2014.421255.782.913.26.7418. Rennes Ligue 1 231624356.284.3176.7419. Liverpool Premier League 2217.312162.383.212.96.7220. Lens Ligue 1 1814.719158.887.211.26.72\n",
      "© WhoScored Page 1/5 | Showing 1 - 20 of 98first| prev| next| last \n",
      " Goals: Total goalsShots pg: Shots per gameDiscipline: Yellow card Red: Red cardPossession%: Possession PercentagePass%: Pass success percentage AerialsWon: Aerial duels won per game\n",
      "\n",
      "\n",
      "OverallHomeAway\n",
      " \n",
      "Team Tournament Shots pgShots OT pgDribbles pgFouled pgRating1. Paris Saint-Germain Ligue 1 16.37.412.112.97.012. Arsenal Premier League 15.86.210.611.56.853. Angers Ligue 1 11.74.410.410.86.434. Lorient Ligue 1 11.74.810.313.56.805. Lyon Ligue 1 14.96.310.2116.746. Bayern Munich Bundesliga 20.68.99.710.17.017. Troyes Ligue 1 13.35.19.612.56.598. Real Madrid LaLiga 17.36.29.612.86.899. Crystal Palace Premier League 10.849.5146.5910. Villarreal LaLiga 12.55.29.412.46.7011. Strasbourg Ligue 1 10.63.79.412.86.5612. Hertha Berlin Bundesliga 12.74.39.212.76.5713. Nice Ligue 1 11.43.49.210.46.5414. Borussia Dortmund Bundesliga 14.45.59.111.86.7415. Monaco Ligue 1 125.79.111.76.7616. Barcelona LaLiga 17.76.49116.9417. Southampton Premier League 11.33.68.89.46.5618. Eintracht Frankfurt Bundesliga 12.24.68.710.76.6419. Nantes Ligue 1 11.53.58.511.16.5620. Lens Ligue 1 14.74.68.512.46.72\n",
      "© WhoScored Page 1/5 | Showing 1 - 20 of 98first| prev| next| last \n",
      " Shots pg: Shots per gameShots OT pg: Shots on target per gameDribbles pg: Dribbles per game Fouled pg: Fouled per game\n",
      "\n",
      "\n",
      "OverallHomeAway\n",
      " \n",
      "Team Tournament Shots pgTackles pgInterceptions pgFouls pgOffsides pgRating1. Leeds Premier League 12.324.111.114.11.46.552. Toulouse Ligue 1 14.621.612.412.81.96.683. Cremonese Serie A 17.420.811.914.526.444. Lorient Ligue 1 14.220.111.89.91.36.805. Bayern Munich Bundesliga 8.519.68.59.33.37.016. Borussia Dortmund Bundesliga 1219.510.49.61.76.747. Southampton Premier League 13.519.311.510.50.56.568. Everton Premier League 1619.310.19.81.86.649. Real Sociedad LaLiga 11.219.16.817.62.36.6310. Aston Villa Premier League 11.5198.612.52.56.4911. Chelsea Premier League 10.518.99.29.82.26.7112. FC Koln Bundesliga 11.118.99.512.82.46.5213. Nice Ligue 1 1218.610.110.41.56.5414. Wolverhampton Premier League 13.518.57.610.21.56.5315. Marseille Ligue 1 12.318.511.815.51.46.7416. Montpellier Ligue 1 14.218.49.311.326.5417. Atletico Madrid LaLiga 12.518.49.913.526.7118. Nantes Ligue 1 12.518.411.612.41.56.5619. AC Ajaccio Ligue 1 9.918.311.214.21.46.3920. Union Berlin Bundesliga 1218.38.914.71.86.77\n",
      "© WhoScored Page 1/5 | Showing 1 - 20 of 98first| prev| next| last \n",
      " Shots pg: Shots conceded per gameTackles pg: Tackles per gameInterceptions pg: Interceptions per game Fouls pg: Fouls per gameOffsides pg: Offsides per game\n",
      "\n",
      "\n",
      " TacklesInterception FoulsCardsOffsidesClearancesBlocksSaves ShotsGoalsDribblesPossession lossAerial PassesKey passesAssistsZonesSituationsAccuracyBody PartsPer gamePer 90 mins Every X minuteTotalPer game:  Average number of times a player performs this action per gamePer 90 mins: Average number of times a player performs this action for every 90 minutes that he playsEvery X minute: A player performs this action once every X minutes, on averageTotal: Total number of times a player performed this action during the seasonPer game:  Average number of times a team performs this action per gamePer 90 mins: Average number of times a team performs this action for every 90 minutes that they playEvery X minute: A team performs this action once every X minutes, on averageTotal: Total number of times a team performed this action during the seasonHold on! You need to select at least one tournamentHold on! You need to select at least one positionHold on! Age needs to be a positive numberHold on! Appearances needs to be a positive numberLet us know what we can do betterThanks a lot for your feedback! We will reply you soon.OverallHomeAway Minutes0 - 90ResetSearch \n",
      " \n",
      "Team Tournament TotalOutOfBoxSixYardBoxPenaltyAreaRating1. Manchester City Premier League 175.11.410.57.022. Paris Saint-Germain Ligue 1 16.34.41.210.87.013. Bayern Munich Bundesliga 20.67.21.212.37.014. Barcelona LaLiga 17.74.72116.945. Real Madrid LaLiga 17.37.50.69.26.896. Napoli Serie A 20.25.6212.66.867. Arsenal Premier League 15.8528.86.858. Lazio Serie A 10.830.77.16.819. Lorient Ligue 1 11.74.60.86.36.8010. Newcastle Premier League 15.34.51.88.96.8011. Union Berlin Bundesliga 12.24.60.57.16.7712. AC Milan Serie A 17.16.11106.7713. Tottenham Premier League 13.94.11.78.16.7614. Monaco Ligue 1 124.31.36.56.7615. Rennes Ligue 1 165.11.49.56.7416. Borussia Dortmund Bundesliga 14.44.61.48.46.7417. Marseille Ligue 1 14.44.50.79.16.7418. Lyon Ligue 1 14.95.218.86.7419. Liverpool Premier League 17.341.711.56.7220. Lens Ligue 1 14.74.40.79.66.72\n",
      "© WhoScored Page 1/5 | Showing 1 - 20 of 98first| prev| next| last \n",
      " Mins: Minutes playedTotal: Total shotsOutOfBox: Shots from outside the penalty area SixYardBox: Shots from inside the six yard boxPenaltyArea: Shots from inside the penalty area, excluding six yard box\n",
      "\n",
      "\n",
      "OverallHomeAwayMinimum appsAll players\n",
      " \n",
      "PlayerPlayer Apps Mins Goals Assists Yel Red SpG PS% AerialsWon MotMRating\t1Lionel MessiPSG, 35,  AM(CR),FW  Lionel Messi PSG, 35,  AM(CR),FW   11967\t6\t9\t-\t-\t4.6\t84.3\t-\t7\t8.80 \t2Erling HaalandMan City, 22,  FW  Erling Haaland Man City, 22,  FW   11925\t17\t3\t-\t-\t4.3\t77.9\t0.6\t3\t8.13 \t3NeymarPSG, 30,  AM(CLR),FW  Neymar PSG, 30,  AM(CLR),FW   9(2)830\t9\t7\t3\t-\t2.5\t81.8\t0.1\t1\t7.92 \t4Robert LewandowskiBarcelona, 34,  FW  Robert Lewandowski Barcelona, 34,  FW   9(1)794\t11\t3\t-\t-\t4\t78.3\t1.3\t6\t7.91 \t5Kylian MbappéPSG, 23,  AM(LR),FW  Kylian Mbappé PSG, 23,  AM(LR),FW   10(1)881\t10\t2\t2\t-\t4.5\t83.6\t0.5\t1\t7.91 \t6Martin TerrierRennes, 25,  AM(CL),FW  Martin Terrier Rennes, 25,  AM(CL),FW   11947\t7\t2\t-\t-\t3.4\t76.1\t3.5\t5\t7.78 \t7Kevin De BruyneMan City, 31,  M(CLR),FW  Kevin De Bruyne Man City, 31,  M(CLR),FW   10(1)865\t2\t9\t-\t-\t2.3\t80\t0.4\t3\t7.73 \t8Joshua KimmichBayern, 27,  D(CR),DMC,M(R)  Joshua Kimmich Bayern, 27,  D(CR),DMC,M(R)   10(1)917\t2\t2\t3\t-\t1.4\t88.2\t0.8\t1\t7.70 \t9Sergej Milinkovic-SavicLazio, 27,  AM(C)  Sergej Milinkovic-Savic Lazio, 27,  AM(C)   10873\t3\t7\t3\t-\t1.5\t73\t2.6\t2\t7.68 \t10RodrygoReal Madrid, 21,  AM(CLR)  Rodrygo Real Madrid, 21,  AM(CLR)   6(2)562\t4\t4\t-\t-\t2.6\t89.8\t0.4\t1\t7.63 \n",
      "© WhoScored Page 1/155 | Showing 1 - 10 of 1548first| prev| next| last \n",
      " Mins: Minutes playedGoals: Total goalsAssists: Total assists Yel: Yellow cardRed: Red cardSpG: Shots per game PS%: Pass success percentageAerialsWon: Aerial duels won per gameMotM: Man of the match \n",
      "\n",
      "\n",
      "\n",
      "\n",
      "\n",
      "\n",
      "\n",
      "\n",
      "\n",
      "\n",
      "\n",
      "\n",
      "\n",
      "\n",
      "\n",
      "\n",
      "\n",
      "\n",
      "\n",
      "\n",
      "\n",
      "\n",
      "\n",
      "\n",
      "\n",
      "\n",
      "\n",
      "\n",
      "\n"
     ]
    }
   ],
   "source": [
    "#Scraping Usage - Local Files\n",
    "with open('WebScraping\\FootballStat.html', 'r', encoding= 'utf-8') as html_file:\n",
    "    content= html_file.read()\n",
    "    #print(content)\n",
    "    \n",
    "    soup= BeautifulSoup(content, 'lxml')\n",
    "    #print(soup.prettify())\n",
    "    #tag= soup.find('a')    #Encuentra y devuelve el primer elemento con ese tag\n",
    "    #print(tag)\n",
    "    \n",
    "    #titles_html_tags = soup.find_all('h2')\n",
    "    #print(courses_html_tags)\n",
    "    \n",
    "    #for title in titles_html_tags:\n",
    "    #    print(title.text)\n",
    "    \n",
    "    tables_html_tags = soup.find_all('div', class_= 'statistics-table-tab')\n",
    "    #print(tables_html_tags)\n",
    "    \n",
    "    for table in tables_html_tags:\n",
    "        #print(column.text)\n",
    "        column_name"
   ]
  },
  {
   "cell_type": "code",
   "execution_count": null,
   "id": "39f3ec0c",
   "metadata": {},
   "outputs": [],
   "source": [
    "#"
   ]
  }
 ],
 "metadata": {
  "kernelspec": {
   "display_name": "Python 3",
   "language": "python",
   "name": "python3"
  },
  "language_info": {
   "codemirror_mode": {
    "name": "ipython",
    "version": 3
   },
   "file_extension": ".py",
   "mimetype": "text/x-python",
   "name": "python",
   "nbconvert_exporter": "python",
   "pygments_lexer": "ipython3",
   "version": "3.8.10"
  }
 },
 "nbformat": 4,
 "nbformat_minor": 5
}
